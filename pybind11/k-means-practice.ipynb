{
 "cells": [
  {
   "cell_type": "code",
   "execution_count": 1,
   "metadata": {
    "collapsed": true
   },
   "outputs": [],
   "source": [
    "import numpy as np\n",
    "import matplotlib.pyplot as plt\n",
    "import pandas as pd\n",
    "import minimalml as ml"
   ]
  },
  {
   "cell_type": "code",
   "execution_count": 2,
   "metadata": {
    "collapsed": true
   },
   "outputs": [],
   "source": [
    "dataset = pd.read_csv('Mall_Customers.csv')"
   ]
  },
  {
   "cell_type": "code",
   "execution_count": 17,
   "metadata": {
    "collapsed": true
   },
   "outputs": [],
   "source": [
    "X = dataset.iloc[:, [3, 4]].values\n",
    "X1 = X.copy(order='C')"
   ]
  },
  {
   "cell_type": "code",
   "execution_count": 4,
   "metadata": {},
   "outputs": [
    {
     "name": "stdout",
     "output_type": "stream",
     "text": [
      "<built-in method tolist of memoryview object at 0x7f51611e0c18>\n"
     ]
    }
   ],
   "source": [
    "type(X.data)\n",
    "d = X.data\n",
    "print(d.tolist)"
   ]
  },
  {
   "cell_type": "code",
   "execution_count": 19,
   "metadata": {
    "collapsed": true
   },
   "outputs": [],
   "source": [
    "X2 = X1.copy(order='C')"
   ]
  },
  {
   "cell_type": "code",
   "execution_count": 20,
   "metadata": {},
   "outputs": [
    {
     "name": "stdout",
     "output_type": "stream",
     "text": [
      "d\n",
      "15.0, 39.0, \n",
      "15.0, 81.0, \n",
      "16.0, 6.0, \n",
      "16.0, 77.0, \n",
      "17.0, 40.0, \n",
      "17.0, 76.0, \n",
      "18.0, 6.0, \n",
      "18.0, 94.0, \n",
      "19.0, 3.0, \n",
      "19.0, 72.0, \n",
      "19.0, 14.0, \n",
      "19.0, 99.0, \n",
      "20.0, 15.0, \n",
      "20.0, 77.0, \n",
      "20.0, 13.0, \n",
      "20.0, 79.0, \n",
      "21.0, 35.0, \n",
      "21.0, 66.0, \n",
      "23.0, 29.0, \n",
      "23.0, 98.0, \n",
      "24.0, 35.0, \n",
      "24.0, 73.0, \n",
      "25.0, 5.0, \n",
      "25.0, 73.0, \n",
      "28.0, 14.0, \n",
      "28.0, 82.0, \n",
      "28.0, 32.0, \n",
      "28.0, 61.0, \n",
      "29.0, 31.0, \n",
      "29.0, 87.0, \n",
      "30.0, 4.0, \n",
      "30.0, 73.0, \n",
      "33.0, 4.0, \n",
      "33.0, 92.0, \n",
      "33.0, 14.0, \n",
      "33.0, 81.0, \n",
      "34.0, 17.0, \n",
      "34.0, 73.0, \n",
      "37.0, 26.0, \n",
      "37.0, 75.0, \n",
      "38.0, 35.0, \n",
      "38.0, 92.0, \n",
      "39.0, 36.0, \n",
      "39.0, 61.0, \n",
      "39.0, 28.0, \n",
      "39.0, 65.0, \n",
      "40.0, 55.0, \n",
      "40.0, 47.0, \n",
      "40.0, 42.0, \n",
      "40.0, 42.0, \n",
      "42.0, 52.0, \n",
      "42.0, 60.0, \n",
      "43.0, 54.0, \n",
      "43.0, 60.0, \n",
      "43.0, 45.0, \n",
      "43.0, 41.0, \n",
      "44.0, 50.0, \n",
      "44.0, 46.0, \n",
      "46.0, 51.0, \n",
      "46.0, 46.0, \n",
      "46.0, 56.0, \n",
      "46.0, 55.0, \n",
      "47.0, 52.0, \n",
      "47.0, 59.0, \n",
      "48.0, 51.0, \n",
      "48.0, 59.0, \n",
      "48.0, 50.0, \n",
      "48.0, 48.0, \n",
      "48.0, 59.0, \n",
      "48.0, 47.0, \n",
      "49.0, 55.0, \n",
      "49.0, 42.0, \n",
      "50.0, 49.0, \n",
      "50.0, 56.0, \n",
      "54.0, 47.0, \n",
      "54.0, 54.0, \n",
      "54.0, 53.0, \n",
      "54.0, 48.0, \n",
      "54.0, 52.0, \n",
      "54.0, 42.0, \n",
      "54.0, 51.0, \n",
      "54.0, 55.0, \n",
      "54.0, 41.0, \n",
      "54.0, 44.0, \n",
      "54.0, 57.0, \n",
      "54.0, 46.0, \n",
      "57.0, 58.0, \n",
      "57.0, 55.0, \n",
      "58.0, 60.0, \n",
      "58.0, 46.0, \n",
      "59.0, 55.0, \n",
      "59.0, 41.0, \n",
      "60.0, 49.0, \n",
      "60.0, 40.0, \n",
      "60.0, 42.0, \n",
      "60.0, 52.0, \n",
      "60.0, 47.0, \n",
      "60.0, 50.0, \n",
      "61.0, 42.0, \n",
      "61.0, 49.0, \n",
      "62.0, 41.0, \n",
      "62.0, 48.0, \n",
      "62.0, 59.0, \n",
      "62.0, 55.0, \n",
      "62.0, 56.0, \n",
      "62.0, 42.0, \n",
      "63.0, 50.0, \n",
      "63.0, 46.0, \n",
      "63.0, 43.0, \n",
      "63.0, 48.0, \n",
      "63.0, 52.0, \n",
      "63.0, 54.0, \n",
      "64.0, 42.0, \n",
      "64.0, 46.0, \n",
      "65.0, 48.0, \n",
      "65.0, 50.0, \n",
      "65.0, 43.0, \n",
      "65.0, 59.0, \n",
      "67.0, 43.0, \n",
      "67.0, 57.0, \n",
      "67.0, 56.0, \n",
      "67.0, 40.0, \n",
      "69.0, 58.0, \n",
      "69.0, 91.0, \n",
      "70.0, 29.0, \n",
      "70.0, 77.0, \n",
      "71.0, 35.0, \n",
      "71.0, 95.0, \n",
      "71.0, 11.0, \n",
      "71.0, 75.0, \n",
      "71.0, 9.0, \n",
      "71.0, 75.0, \n",
      "72.0, 34.0, \n",
      "72.0, 71.0, \n",
      "73.0, 5.0, \n",
      "73.0, 88.0, \n",
      "73.0, 7.0, \n",
      "73.0, 73.0, \n",
      "74.0, 10.0, \n",
      "74.0, 72.0, \n",
      "75.0, 5.0, \n",
      "75.0, 93.0, \n",
      "76.0, 40.0, \n",
      "76.0, 87.0, \n",
      "77.0, 12.0, \n",
      "77.0, 97.0, \n",
      "77.0, 36.0, \n",
      "77.0, 74.0, \n",
      "78.0, 22.0, \n",
      "78.0, 90.0, \n",
      "78.0, 17.0, \n",
      "78.0, 88.0, \n",
      "78.0, 20.0, \n",
      "78.0, 76.0, \n",
      "78.0, 16.0, \n",
      "78.0, 89.0, \n",
      "78.0, 1.0, \n",
      "78.0, 78.0, \n",
      "78.0, 1.0, \n",
      "78.0, 73.0, \n",
      "79.0, 35.0, \n",
      "79.0, 83.0, \n",
      "81.0, 5.0, \n",
      "81.0, 93.0, \n",
      "85.0, 26.0, \n",
      "85.0, 75.0, \n",
      "86.0, 20.0, \n",
      "86.0, 95.0, \n",
      "87.0, 27.0, \n",
      "87.0, 63.0, \n",
      "87.0, 13.0, \n",
      "87.0, 75.0, \n",
      "87.0, 10.0, \n",
      "87.0, 92.0, \n",
      "88.0, 13.0, \n",
      "88.0, 86.0, \n",
      "88.0, 15.0, \n",
      "88.0, 69.0, \n",
      "93.0, 14.0, \n",
      "93.0, 90.0, \n",
      "97.0, 32.0, \n",
      "97.0, 86.0, \n",
      "98.0, 15.0, \n",
      "98.0, 88.0, \n",
      "99.0, 39.0, \n",
      "99.0, 97.0, \n",
      "101.0, 24.0, \n",
      "101.0, 68.0, \n",
      "103.0, 17.0, \n",
      "103.0, 85.0, \n",
      "103.0, 23.0, \n",
      "103.0, 69.0, \n",
      "113.0, 8.0, \n",
      "113.0, 91.0, \n",
      "120.0, 16.0, \n",
      "120.0, 79.0, \n",
      "126.0, 28.0, \n",
      "126.0, 74.0, \n",
      "137.0, 18.0, \n",
      "137.0, 83.0, \n"
     ]
    }
   ],
   "source": [
    "ml.show(X2)"
   ]
  },
  {
   "cell_type": "code",
   "execution_count": 6,
   "metadata": {},
   "outputs": [
    {
     "data": {
      "text/plain": [
       "array([[ 15,  39],\n",
       "       [ 15,  81],\n",
       "       [ 16,   6],\n",
       "       [ 16,  77],\n",
       "       [ 17,  40],\n",
       "       [ 17,  76],\n",
       "       [ 18,   6],\n",
       "       [ 18,  94],\n",
       "       [ 19,   3],\n",
       "       [ 19,  72],\n",
       "       [ 19,  14],\n",
       "       [ 19,  99],\n",
       "       [ 20,  15],\n",
       "       [ 20,  77],\n",
       "       [ 20,  13],\n",
       "       [ 20,  79],\n",
       "       [ 21,  35],\n",
       "       [ 21,  66],\n",
       "       [ 23,  29],\n",
       "       [ 23,  98],\n",
       "       [ 24,  35],\n",
       "       [ 24,  73],\n",
       "       [ 25,   5],\n",
       "       [ 25,  73],\n",
       "       [ 28,  14],\n",
       "       [ 28,  82],\n",
       "       [ 28,  32],\n",
       "       [ 28,  61],\n",
       "       [ 29,  31],\n",
       "       [ 29,  87],\n",
       "       [ 30,   4],\n",
       "       [ 30,  73],\n",
       "       [ 33,   4],\n",
       "       [ 33,  92],\n",
       "       [ 33,  14],\n",
       "       [ 33,  81],\n",
       "       [ 34,  17],\n",
       "       [ 34,  73],\n",
       "       [ 37,  26],\n",
       "       [ 37,  75],\n",
       "       [ 38,  35],\n",
       "       [ 38,  92],\n",
       "       [ 39,  36],\n",
       "       [ 39,  61],\n",
       "       [ 39,  28],\n",
       "       [ 39,  65],\n",
       "       [ 40,  55],\n",
       "       [ 40,  47],\n",
       "       [ 40,  42],\n",
       "       [ 40,  42],\n",
       "       [ 42,  52],\n",
       "       [ 42,  60],\n",
       "       [ 43,  54],\n",
       "       [ 43,  60],\n",
       "       [ 43,  45],\n",
       "       [ 43,  41],\n",
       "       [ 44,  50],\n",
       "       [ 44,  46],\n",
       "       [ 46,  51],\n",
       "       [ 46,  46],\n",
       "       [ 46,  56],\n",
       "       [ 46,  55],\n",
       "       [ 47,  52],\n",
       "       [ 47,  59],\n",
       "       [ 48,  51],\n",
       "       [ 48,  59],\n",
       "       [ 48,  50],\n",
       "       [ 48,  48],\n",
       "       [ 48,  59],\n",
       "       [ 48,  47],\n",
       "       [ 49,  55],\n",
       "       [ 49,  42],\n",
       "       [ 50,  49],\n",
       "       [ 50,  56],\n",
       "       [ 54,  47],\n",
       "       [ 54,  54],\n",
       "       [ 54,  53],\n",
       "       [ 54,  48],\n",
       "       [ 54,  52],\n",
       "       [ 54,  42],\n",
       "       [ 54,  51],\n",
       "       [ 54,  55],\n",
       "       [ 54,  41],\n",
       "       [ 54,  44],\n",
       "       [ 54,  57],\n",
       "       [ 54,  46],\n",
       "       [ 57,  58],\n",
       "       [ 57,  55],\n",
       "       [ 58,  60],\n",
       "       [ 58,  46],\n",
       "       [ 59,  55],\n",
       "       [ 59,  41],\n",
       "       [ 60,  49],\n",
       "       [ 60,  40],\n",
       "       [ 60,  42],\n",
       "       [ 60,  52],\n",
       "       [ 60,  47],\n",
       "       [ 60,  50],\n",
       "       [ 61,  42],\n",
       "       [ 61,  49],\n",
       "       [ 62,  41],\n",
       "       [ 62,  48],\n",
       "       [ 62,  59],\n",
       "       [ 62,  55],\n",
       "       [ 62,  56],\n",
       "       [ 62,  42],\n",
       "       [ 63,  50],\n",
       "       [ 63,  46],\n",
       "       [ 63,  43],\n",
       "       [ 63,  48],\n",
       "       [ 63,  52],\n",
       "       [ 63,  54],\n",
       "       [ 64,  42],\n",
       "       [ 64,  46],\n",
       "       [ 65,  48],\n",
       "       [ 65,  50],\n",
       "       [ 65,  43],\n",
       "       [ 65,  59],\n",
       "       [ 67,  43],\n",
       "       [ 67,  57],\n",
       "       [ 67,  56],\n",
       "       [ 67,  40],\n",
       "       [ 69,  58],\n",
       "       [ 69,  91],\n",
       "       [ 70,  29],\n",
       "       [ 70,  77],\n",
       "       [ 71,  35],\n",
       "       [ 71,  95],\n",
       "       [ 71,  11],\n",
       "       [ 71,  75],\n",
       "       [ 71,   9],\n",
       "       [ 71,  75],\n",
       "       [ 72,  34],\n",
       "       [ 72,  71],\n",
       "       [ 73,   5],\n",
       "       [ 73,  88],\n",
       "       [ 73,   7],\n",
       "       [ 73,  73],\n",
       "       [ 74,  10],\n",
       "       [ 74,  72],\n",
       "       [ 75,   5],\n",
       "       [ 75,  93],\n",
       "       [ 76,  40],\n",
       "       [ 76,  87],\n",
       "       [ 77,  12],\n",
       "       [ 77,  97],\n",
       "       [ 77,  36],\n",
       "       [ 77,  74],\n",
       "       [ 78,  22],\n",
       "       [ 78,  90],\n",
       "       [ 78,  17],\n",
       "       [ 78,  88],\n",
       "       [ 78,  20],\n",
       "       [ 78,  76],\n",
       "       [ 78,  16],\n",
       "       [ 78,  89],\n",
       "       [ 78,   1],\n",
       "       [ 78,  78],\n",
       "       [ 78,   1],\n",
       "       [ 78,  73],\n",
       "       [ 79,  35],\n",
       "       [ 79,  83],\n",
       "       [ 81,   5],\n",
       "       [ 81,  93],\n",
       "       [ 85,  26],\n",
       "       [ 85,  75],\n",
       "       [ 86,  20],\n",
       "       [ 86,  95],\n",
       "       [ 87,  27],\n",
       "       [ 87,  63],\n",
       "       [ 87,  13],\n",
       "       [ 87,  75],\n",
       "       [ 87,  10],\n",
       "       [ 87,  92],\n",
       "       [ 88,  13],\n",
       "       [ 88,  86],\n",
       "       [ 88,  15],\n",
       "       [ 88,  69],\n",
       "       [ 93,  14],\n",
       "       [ 93,  90],\n",
       "       [ 97,  32],\n",
       "       [ 97,  86],\n",
       "       [ 98,  15],\n",
       "       [ 98,  88],\n",
       "       [ 99,  39],\n",
       "       [ 99,  97],\n",
       "       [101,  24],\n",
       "       [101,  68],\n",
       "       [103,  17],\n",
       "       [103,  85],\n",
       "       [103,  23],\n",
       "       [103,  69],\n",
       "       [113,   8],\n",
       "       [113,  91],\n",
       "       [120,  16],\n",
       "       [120,  79],\n",
       "       [126,  28],\n",
       "       [126,  74],\n",
       "       [137,  18],\n",
       "       [137,  83]])"
      ]
     },
     "execution_count": 6,
     "metadata": {},
     "output_type": "execute_result"
    }
   ],
   "source": [
    "X"
   ]
  },
  {
   "cell_type": "code",
   "execution_count": 7,
   "metadata": {
    "collapsed": true
   },
   "outputs": [],
   "source": [
    "Y = np.arange(12).reshape(6, 2)"
   ]
  },
  {
   "cell_type": "code",
   "execution_count": 8,
   "metadata": {},
   "outputs": [
    {
     "data": {
      "text/plain": [
       "array([[ 0,  1],\n",
       "       [ 2,  3],\n",
       "       [ 4,  5],\n",
       "       [ 6,  7],\n",
       "       [ 8,  9],\n",
       "       [10, 11]])"
      ]
     },
     "execution_count": 8,
     "metadata": {},
     "output_type": "execute_result"
    }
   ],
   "source": [
    "Y"
   ]
  },
  {
   "cell_type": "code",
   "execution_count": 9,
   "metadata": {},
   "outputs": [
    {
     "name": "stdout",
     "output_type": "stream",
     "text": [
      "d\n",
      "0.0, 1.0, \n",
      "2.0, 3.0, \n",
      "4.0, 5.0, \n",
      "6.0, 7.0, \n",
      "8.0, 9.0, \n",
      "10.0, 11.0, \n"
     ]
    }
   ],
   "source": [
    "ml.show(Y)"
   ]
  },
  {
   "cell_type": "code",
   "execution_count": 10,
   "metadata": {},
   "outputs": [
    {
     "data": {
      "text/plain": [
       "  C_CONTIGUOUS : False\n",
       "  F_CONTIGUOUS : True\n",
       "  OWNDATA : False\n",
       "  WRITEABLE : True\n",
       "  ALIGNED : True\n",
       "  UPDATEIFCOPY : False"
      ]
     },
     "execution_count": 10,
     "metadata": {},
     "output_type": "execute_result"
    }
   ],
   "source": [
    "X.flags"
   ]
  },
  {
   "cell_type": "code",
   "execution_count": 11,
   "metadata": {},
   "outputs": [
    {
     "data": {
      "text/plain": [
       "  C_CONTIGUOUS : True\n",
       "  F_CONTIGUOUS : False\n",
       "  OWNDATA : False\n",
       "  WRITEABLE : True\n",
       "  ALIGNED : True\n",
       "  UPDATEIFCOPY : False"
      ]
     },
     "execution_count": 11,
     "metadata": {},
     "output_type": "execute_result"
    }
   ],
   "source": [
    "Y.flags"
   ]
  },
  {
   "cell_type": "code",
   "execution_count": 12,
   "metadata": {},
   "outputs": [
    {
     "data": {
      "image/png": "[encoded data removed]",
      "text/plain": [
       "<matplotlib.figure.Figure at 0x7f515402de48>"
      ]
     },
     "metadata": {},
     "output_type": "display_data"
    }
   ],
   "source": [
    "from sklearn.cluster import KMeans\n",
    "\n",
    "wcss = []\n",
    "\n",
    "for i in range(1, 11):\n",
    "    km = KMeans(n_clusters = i, init = 'k-means++', max_iter = 300, n_init = 10, random_state = 0)\n",
    "    km.fit(X)\n",
    "    wcss.append(km.inertia_)\n",
    "\n",
    "plt.plot(range(1, 11), wcss)\n",
    "plt.show()"
   ]
  },
  {
   "cell_type": "code",
   "execution_count": 13,
   "metadata": {
    "collapsed": true
   },
   "outputs": [],
   "source": [
    "km = KMeans(n_clusters = 5, init = 'k-means++', max_iter = 300, n_init = 10, random_state = 0)\n",
    "Y = km.fit_predict(X)\n",
    "\n"
   ]
  },
  {
   "cell_type": "code",
   "execution_count": 14,
   "metadata": {},
   "outputs": [
    {
     "data": {
      "text/plain": [
       "array([4, 3, 4, 3, 4, 3, 4, 3, 4, 3, 4, 3, 4, 3, 4, 3, 4, 3, 4, 3, 4, 3, 4,\n",
       "       3, 4, 3, 4, 3, 4, 3, 4, 3, 4, 3, 4, 3, 4, 3, 4, 3, 4, 3, 4, 1, 4, 3,\n",
       "       1, 1, 1, 1, 1, 1, 1, 1, 1, 1, 1, 1, 1, 1, 1, 1, 1, 1, 1, 1, 1, 1, 1,\n",
       "       1, 1, 1, 1, 1, 1, 1, 1, 1, 1, 1, 1, 1, 1, 1, 1, 1, 1, 1, 1, 1, 1, 1,\n",
       "       1, 1, 1, 1, 1, 1, 1, 1, 1, 1, 1, 1, 1, 1, 1, 1, 1, 1, 1, 1, 1, 1, 1,\n",
       "       1, 1, 1, 1, 1, 1, 1, 1, 2, 0, 2, 1, 2, 0, 2, 0, 2, 1, 2, 0, 2, 0, 2,\n",
       "       0, 2, 0, 2, 1, 2, 0, 2, 0, 2, 0, 2, 0, 2, 0, 2, 0, 2, 0, 2, 0, 2, 0,\n",
       "       2, 0, 2, 0, 2, 0, 2, 0, 2, 0, 2, 0, 2, 0, 2, 0, 2, 0, 2, 0, 2, 0, 2,\n",
       "       0, 2, 0, 2, 0, 2, 0, 2, 0, 2, 0, 2, 0, 2, 0, 2], dtype=int32)"
      ]
     },
     "execution_count": 14,
     "metadata": {},
     "output_type": "execute_result"
    }
   ],
   "source": [
    "Y"
   ]
  },
  {
   "cell_type": "code",
   "execution_count": null,
   "metadata": {
    "collapsed": true
   },
   "outputs": [],
   "source": [
    "X[True, 0]"
   ]
  },
  {
   "cell_type": "code",
   "execution_count": null,
   "metadata": {
    "collapsed": true
   },
   "outputs": [],
   "source": [
    "\n",
    "plt.scatter(X[Y == 0, 0], X[Y == 0, 1], s = 100, c = 'red', label = 'Cluster 1')\n",
    "plt.scatter(X[Y == 1, 0], X[Y == 1, 1], s = 100, c = 'green', label = 'Cluster 2')\n",
    "plt.scatter(X[Y == 2, 0], X[Y == 2, 1], s = 100, c = 'blue', label = 'Cluster 3')\n",
    "plt.scatter(X[Y == 3, 0], X[Y == 3, 1], s = 100, c = 'gray', label = 'Cluster 4')\n",
    "plt.scatter(X[Y == 4, 0], X[Y == 4, 1], s = 100, c = 'pink', label = 'Cluster 5')\n",
    "\n",
    "plt.scatter(km.cluster_centers_[:, 0], km.cluster_centers_[:, 1], s = 300, c = 'yellow', label = 'Centroids')\n",
    "plt.title('Clusters of customers')\n",
    "plt.xlabel('Annual Income (k$)')\n",
    "plt.ylabel('Spending Score (1-100)')\n",
    "plt.legend()\n",
    "plt.show()"
   ]
  }
 ],
 "metadata": {
  "kernelspec": {
   "display_name": "Python 3",
   "language": "python",
   "name": "python3"
  },
  "language_info": {
   "codemirror_mode": {
    "name": "ipython",
    "version": 3
   },
   "file_extension": ".py",
   "mimetype": "text/x-python",
   "name": "python",
   "nbconvert_exporter": "python",
   "pygments_lexer": "ipython3",
   "version": "3.5.3"
  }
 },
 "nbformat": 4,
 "nbformat_minor": 2
}
