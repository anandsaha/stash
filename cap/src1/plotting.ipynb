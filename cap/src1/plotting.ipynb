{
 "cells": [
  {
   "cell_type": "code",
   "execution_count": 1,
   "metadata": {},
   "outputs": [],
   "source": [
    "import matplotlib.pyplot as plt\n",
    "%matplotlib inline"
   ]
  },
  {
   "cell_type": "code",
   "execution_count": 2,
   "metadata": {
    "collapsed": true
   },
   "outputs": [],
   "source": [
    "import pandas as pd\n",
    "import numpy as np"
   ]
  },
  {
   "cell_type": "code",
   "execution_count": 3,
   "metadata": {
    "collapsed": true
   },
   "outputs": [],
   "source": [
    "headers = ['episode_num', 'success', 'total_reward', 'total_steps', 'exploration_steps', 'epsilon']\n",
    "dtypes = {'episode_num': 'int', 'success': 'str', 'total_reward': 'int', 'total_steps': 'int', 'explorations': 'int', 'epsilon': float}"
   ]
  },
  {
   "cell_type": "code",
   "execution_count": 4,
   "metadata": {},
   "outputs": [],
   "source": [
    "data = pd.read_csv('qtables7_the_one/episodes.txt', header=None, names=headers, dtype=dtypes)"
   ]
  },
  {
   "cell_type": "code",
   "execution_count": 5,
   "metadata": {
    "collapsed": true
   },
   "outputs": [],
   "source": [
    "data['success_bool'] = True\n",
    "data['success_int'] = 0"
   ]
  },
  {
   "cell_type": "code",
   "execution_count": 6,
   "metadata": {
    "collapsed": true
   },
   "outputs": [],
   "source": [
    "for i, v in enumerate(data['success'].values):\n",
    "    if v.strip() == 'False':\n",
    "        data.set_value(i, 'success_bool', False)\n",
    "        data.set_value(i, 'success_int', 0)\n",
    "    else:\n",
    "        data.set_value(i, 'success_bool', True)\n",
    "        data.set_value(i, 'success_int', 1)"
   ]
  },
  {
   "cell_type": "code",
   "execution_count": 7,
   "metadata": {},
   "outputs": [
    {
     "data": {
      "text/html": [
       "<div>\n",
       "<table border=\"1\" class=\"dataframe\">\n",
       "  <thead>\n",
       "    <tr style=\"text-align: right;\">\n",
       "      <th></th>\n",
       "      <th>episode_num</th>\n",
       "      <th>success</th>\n",
       "      <th>total_reward</th>\n",
       "      <th>total_steps</th>\n",
       "      <th>exploration_steps</th>\n",
       "      <th>epsilon</th>\n",
       "      <th>success_bool</th>\n",
       "      <th>success_int</th>\n",
       "    </tr>\n",
       "  </thead>\n",
       "  <tbody>\n",
       "    <tr>\n",
       "      <th>2498</th>\n",
       "      <td>2499</td>\n",
       "      <td>False</td>\n",
       "      <td>-11</td>\n",
       "      <td>2</td>\n",
       "      <td>1</td>\n",
       "      <td>0.22503</td>\n",
       "      <td>False</td>\n",
       "      <td>0</td>\n",
       "    </tr>\n",
       "    <tr>\n",
       "      <th>2499</th>\n",
       "      <td>2500</td>\n",
       "      <td>False</td>\n",
       "      <td>-7</td>\n",
       "      <td>4</td>\n",
       "      <td>1</td>\n",
       "      <td>0.22500</td>\n",
       "      <td>False</td>\n",
       "      <td>0</td>\n",
       "    </tr>\n",
       "    <tr>\n",
       "      <th>2500</th>\n",
       "      <td>2501</td>\n",
       "      <td>False</td>\n",
       "      <td>-6</td>\n",
       "      <td>3</td>\n",
       "      <td>1</td>\n",
       "      <td>0.22497</td>\n",
       "      <td>False</td>\n",
       "      <td>0</td>\n",
       "    </tr>\n",
       "    <tr>\n",
       "      <th>2501</th>\n",
       "      <td>2502</td>\n",
       "      <td>False</td>\n",
       "      <td>-6</td>\n",
       "      <td>3</td>\n",
       "      <td>1</td>\n",
       "      <td>0.22494</td>\n",
       "      <td>False</td>\n",
       "      <td>0</td>\n",
       "    </tr>\n",
       "    <tr>\n",
       "      <th>2502</th>\n",
       "      <td>2503</td>\n",
       "      <td>True</td>\n",
       "      <td>12</td>\n",
       "      <td>5</td>\n",
       "      <td>0</td>\n",
       "      <td>0.22491</td>\n",
       "      <td>True</td>\n",
       "      <td>1</td>\n",
       "    </tr>\n",
       "  </tbody>\n",
       "</table>\n",
       "</div>"
      ],
      "text/plain": [
       "      episode_num success  total_reward  total_steps  exploration_steps  \\\n",
       "2498         2499   False           -11            2                  1   \n",
       "2499         2500   False            -7            4                  1   \n",
       "2500         2501   False            -6            3                  1   \n",
       "2501         2502   False            -6            3                  1   \n",
       "2502         2503    True            12            5                  0   \n",
       "\n",
       "      epsilon success_bool  success_int  \n",
       "2498  0.22503        False            0  \n",
       "2499  0.22500        False            0  \n",
       "2500  0.22497        False            0  \n",
       "2501  0.22494        False            0  \n",
       "2502  0.22491         True            1  "
      ]
     },
     "execution_count": 7,
     "metadata": {},
     "output_type": "execute_result"
    }
   ],
   "source": [
    "data.tail()"
   ]
  },
  {
   "cell_type": "code",
   "execution_count": 8,
   "metadata": {},
   "outputs": [],
   "source": [
    "episode_success = data.iloc[:, [0, 6]].values\n",
    "episode_reward = data.iloc[:, [0, 2]].values\n",
    "episode_steps = data.iloc[:, [0, 3]].values\n",
    "episode_explorations = data.iloc[:, [0, 4]].values"
   ]
  },
  {
   "cell_type": "code",
   "execution_count": 9,
   "metadata": {},
   "outputs": [
    {
     "data": {
      "text/plain": [
       "array([False, False, False, ..., False, False, True], dtype=object)"
      ]
     },
     "execution_count": 9,
     "metadata": {},
     "output_type": "execute_result"
    }
   ],
   "source": [
    "episode_success[:, 1]"
   ]
  },
  {
   "cell_type": "code",
   "execution_count": 10,
   "metadata": {},
   "outputs": [
    {
     "data": {
      "text/plain": [
       "-47"
      ]
     },
     "execution_count": 10,
     "metadata": {},
     "output_type": "execute_result"
    }
   ],
   "source": [
    "np.min(episode_reward[:,1])"
   ]
  },
  {
   "cell_type": "code",
   "execution_count": 11,
   "metadata": {},
   "outputs": [
    {
     "data": {
      "image/png": "[encoded data removed]",
      "text/plain": [
       "<matplotlib.figure.Figure at 0x7f1b72a67828>"
      ]
     },
     "metadata": {},
     "output_type": "display_data"
    }
   ],
   "source": [
    "# Success\n",
    "plt.figure(figsize=(15, 3))\n",
    "\n",
    "b = plt.bar(episode_success[:, 0], episode_success[:, 1], width=1)\n",
    "for i in range(len(episode_success)):\n",
    "    if episode_explorations[i][1] == 0 and episode_success[i][1]:\n",
    "        b[i].set_color('blue')\n",
    "        b[i].set_linewidth(1)\n",
    "    else:\n",
    "        b[i].set_color('skyblue')\n",
    "        \n",
    "plt.xlabel('Episodes')\n",
    "plt.ylabel('Success')\n",
    "plt.title('Episode vs Success')\n",
    "plt.show()"
   ]
  },
  {
   "cell_type": "code",
   "execution_count": 12,
   "metadata": {},
   "outputs": [
    {
     "data": {
      "image/png": "[encoded data removed]",
      "text/plain": [
       "<matplotlib.figure.Figure at 0x7f1b70cebb00>"
      ]
     },
     "metadata": {},
     "output_type": "display_data"
    }
   ],
   "source": [
    "# Reward\n",
    "plt.figure(figsize=(15, 5))\n",
    "b = plt.bar(episode_reward[:, 0], episode_reward[:, 1], width=0.2)\n",
    "\n",
    "for i in range(len(episode_reward)):\n",
    "    if episode_success[i][1] and episode_explorations[i][1] == 0:\n",
    "        b[i].set_color('b')\n",
    "        b[i].set_linewidth(1)\n",
    "    elif episode_success[i][1] and episode_explorations[i][1] > 0:\n",
    "        b[i].set_color('skyblue')\n",
    "        b[i].set_linewidth(1)\n",
    "    else:\n",
    "        b[i].set_color('lightgray')\n",
    "        b[i].set_linewidth(0.2)\n",
    "        \n",
    "plt.xlabel('Episodes')\n",
    "plt.ylabel('Total Reward (more the better)')\n",
    "plt.title('Episode vs Reward')\n",
    "plt.show()"
   ]
  },
  {
   "cell_type": "code",
   "execution_count": 13,
   "metadata": {},
   "outputs": [
    {
     "data": {
      "image/png": "[encoded data removed]",
      "text/plain": [
       "<matplotlib.figure.Figure at 0x7f1b70ce5828>"
      ]
     },
     "metadata": {},
     "output_type": "display_data"
    }
   ],
   "source": [
    "# Exploration vs Exploitation\n",
    "plt.figure(figsize=(15, 5))\n",
    "b = plt.bar(episode_steps[:, 0], episode_steps[:, 1], width=1, color=['lightgray'])\n",
    "\n",
    "for i in range(len(episode_steps)):\n",
    "    if episode_success[i][1] and episode_explorations[i][1] == 0:\n",
    "        b[i].set_color('b')\n",
    "        b[i].set_linewidth(2)\n",
    "    elif episode_success[i][1] and episode_explorations[i][1] > 0:\n",
    "        b[i].set_color('skyblue')\n",
    "        b[i].set_linewidth(2)\n",
    "    #else:\n",
    "     #   b[i].set_color('lightgray')\n",
    "\n",
    "plt.xlabel('Episodes')\n",
    "plt.ylabel('Total Actions (lesser the better)')\n",
    "plt.title('Episode vs Total Action')        \n",
    "plt.show()"
   ]
  }
 ],
 "metadata": {
  "kernelspec": {
   "display_name": "Python 3",
   "language": "python",
   "name": "python3"
  },
  "language_info": {
   "codemirror_mode": {
    "name": "ipython",
    "version": 3
   },
   "file_extension": ".py",
   "mimetype": "text/x-python",
   "name": "python",
   "nbconvert_exporter": "python",
   "pygments_lexer": "ipython3",
   "version": "3.5.3"
  }
 },
 "nbformat": 4,
 "nbformat_minor": 2
}
