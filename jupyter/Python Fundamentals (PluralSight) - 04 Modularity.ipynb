{
 "cells": [
  {
   "cell_type": "code",
   "execution_count": 1,
   "metadata": {
    "collapsed": false
   },
   "outputs": [
    {
     "name": "stdout",
     "output_type": "stream",
     "text": [
      "modules.story\n"
     ]
    }
   ],
   "source": [
    "from modules.story import main\n"
   ]
  },
  {
   "cell_type": "code",
   "execution_count": 2,
   "metadata": {
    "collapsed": false
   },
   "outputs": [
    {
     "name": "stdout",
     "output_type": "stream",
     "text": [
      "OK\n",
      "None\n"
     ]
    }
   ],
   "source": [
    "def fun(arg):\n",
    "    if arg == 1:\n",
    "        return \"OK\"\n",
    "    else:\n",
    "        return\n",
    "\n",
    "print(fun(1))\n",
    "print(fun(2))"
   ]
  },
  {
   "cell_type": "code",
   "execution_count": 3,
   "metadata": {
    "collapsed": false
   },
   "outputs": [
    {
     "name": "stdout",
     "output_type": "stream",
     "text": [
      "\t\t\tInteresting stories\n",
      "\n",
      "\t\t\t+++++++++++++++++++\n",
      "\n",
      "\n",
      "\n",
      "\n",
      "\n",
      "Once in a while something comes along that's worth putting in your\n",
      "\n",
      "speech  or personal file. This is one such item of wisdom and insight into\n",
      "\n",
      "the power of a single  individual's ability to impact others. These stories\n",
      "\n",
      "put the roles of  parent and manager in an interesting perspective.\n",
      "\n",
      "\n",
      "\n",
      "STORY NUMBER ONE\n",
      "\n",
      "\n",
      "\n",
      "Many years ago, Al Capone virtually owned Chicago. Capone wasn't famous\n",
      "\n",
      "for anything heroic. He was notorious for enmeshing the windy city in\n",
      "\n",
      "everything from bootlegged booze and prostitution to murder.\n",
      "\n",
      "\n",
      "\n",
      "Capone had a lawyer nicknamed \"Easy Eddie.\" He was his lawyer for a good\n",
      "\n",
      "reason... Eddie was very good!\n",
      "\n",
      "\n",
      "\n",
      "In fact, Eddie's skill at legal maneuvering kept Big Al out of jail for a\n",
      "\n",
      "long time. To show his appreciation, Capone paid him very well. Not only\n",
      "\n",
      "was the money big, but Eddie got special dividends. For instance, he and\n",
      "\n",
      "his family occupied a fenced-in mansion with live-in help and all of the\n",
      "\n",
      "conveniences of the day. The estate was so large that it filled an entire\n",
      "\n",
      "Chicago City block. Eddie lived the high life of the Chicago mob and gave\n",
      "\n",
      "little consideration to the atrocity that went on around him.\n",
      "\n",
      "\n",
      "\n",
      "Eddie did have one soft spot, however. He had a son that he loved dearly.\n",
      "\n",
      "Eddie saw to it that his young son had the best of everything: clothes,\n",
      "\n",
      "cars and a good education. Nothing was withheld. Price was no object.\n",
      "\n",
      "\n",
      "\n",
      "And, despite his involvement with organized crime, Eddie even tried to\n",
      "\n",
      "teach him right from wrong. Eddie wanted his son to be a better man than\n",
      "\n",
      "he was. Yet, with all his wealth and influence, there were two things he\n",
      "\n",
      "couldn't give his son; that he couldn't pass on a good name and a good\n",
      "\n",
      "example.\n",
      "\n",
      "\n",
      "\n",
      "One day, Easy Eddie reached a difficult decision. Easy Eddie wanted to\n",
      "\n",
      "rectify wrongs he had done. He decided he would go to the authorities and\n",
      "\n",
      "tell the truth about Al \"Scar face\" Capone, clean up his tarnished name\n",
      "\n",
      "and offer his son some semblance of integrity.\n",
      "\n",
      "\n",
      "\n",
      "To do this, he would have to testify against The Mob, and he knew that the\n",
      "\n",
      "cost would be great. So, he testified. Within the year, Easy Eddie's life\n",
      "\n",
      "ended in a blaze of gunfire on a lonely Chicago Street. But in his eyes,\n",
      "\n",
      "he had given his son the greatest gift he had to offer, at the greatest\n",
      "\n",
      "price he would ever pay.\n",
      "\n",
      "\n",
      "\n",
      "STORY NUMBER TWO\n",
      "\n",
      "\n",
      "\n",
      "World War II produced many heroes. One such man was Lieutenant Commander\n",
      "\n",
      "Butch O'Hare. He was a fighter pilot assigned to the aircraft carrier\n",
      "\n",
      "Lexington in the South Pacific.\n",
      "\n",
      "\n",
      "\n",
      "One day his entire squadron was sent on a mission. After he was airborne,\n",
      "\n",
      "he looked at his fuel gauge and realized that someone had forgotten to top\n",
      "\n",
      "off his fuel tank. He would not have enough fuel to complete his mission\n",
      "\n",
      "and get back to his ship. His flight leader told him to return to the\n",
      "\n",
      "carrier.\n",
      "\n",
      "\n",
      "\n",
      "Reluctantly, he dropped out of formation and headed back to the fleet. As\n",
      "\n",
      "he was returning to the mother ship he saw something that turned his blood\n",
      "\n",
      "cold. A squadron of Japanese aircraft was speeding their way toward the\n",
      "\n",
      "American fleet.\n",
      "\n",
      "\n",
      "\n",
      "The American fighters were gone on a sortie, and the fleet was all but\n",
      "\n",
      "defenseless. He couldn't reach his squadron and bring them back in time to\n",
      "\n",
      "save the fleet. Nor could he warn the fleet of the approaching danger.\n",
      "\n",
      "There was only one thing to do. He must somehow divert them from the\n",
      "\n",
      "fleet.\n",
      "\n",
      "\n",
      "\n",
      "Laying aside all thoughts of personal safety, he dove into the formation\n",
      "\n",
      "of Japanese planes. Wing-mounted 50 caliber's blazed as he charged in,\n",
      "\n",
      "attacking one surprised enemy plane and then another. Butch wove in and\n",
      "\n",
      "out of the now broken formation and fired at as many planes as possible\n",
      "\n",
      "until all his ammunition was finally spent. Undaunted, he continued the\n",
      "\n",
      "assault. He dove at the planes, trying to clip a wing or tail in hopes of\n",
      "\n",
      "damaging as many enemy planes as possible and rendering them unfit to fly.\n",
      "\n",
      "\n",
      "\n",
      "Finally, the exasperated Japanese squadron took off in another direction.\n",
      "\n",
      "Deeply relieved, Butch O'Hare and his tattered fighter limped back to the\n",
      "\n",
      "carrier. Upon arrival he reported in and related the event surrounding his\n",
      "\n",
      "return.\n",
      "\n",
      "\n",
      "\n",
      "The film from the gun-camera mounted on his plane told the tale. It showed\n",
      "\n",
      "the extent of Butch's daring attempt to protect his fleet. He had in fact\n",
      "\n",
      "destroyed five enemy aircraft.\n",
      "\n",
      "\n",
      "\n",
      "This took place on February 20, 1942, and for that action Butch became the\n",
      "\n",
      "Navy's first Ace of W.W.II, and the first Naval Aviator to win the\n",
      "\n",
      "Congressional Medal of Honor. A year later Butch was killed in aerial\n",
      "\n",
      "combat at the age of 29. His home town would not allow the memory of this\n",
      "\n",
      "WW II hero to fade, and today, O'Hare Airport in Chicago is named in\n",
      "\n",
      "tribute to the courage of this great man. So the next time you find\n",
      "\n",
      "yourself at O?Hare International, give some thought to visiting Butch's\n",
      "\n",
      "memorial displaying his statue and his Medal of Honor. It's located\n",
      "\n",
      "between Terminals 1 and 2.\n",
      "\n",
      "\n",
      "\n",
      "SO WHAT DO THESE TWO STORIES HAVE TO DO WITH EACH OTHER?\n",
      "\n",
      "\n",
      "\n",
      "Butch O'Hare was Easy Eddie's son.\n",
      "\n",
      "\n",
      "\n",
      "\n",
      "\n",
      "\n",
      "\n"
     ]
    }
   ],
   "source": [
    "from modules.story import main\n",
    "\n",
    "main('http://www.hecr.tifr.res.in/~bsn/GOOD/stories.txt')"
   ]
  },
  {
   "cell_type": "markdown",
   "metadata": {},
   "source": [
    "## DocString"
   ]
  },
  {
   "cell_type": "code",
   "execution_count": 4,
   "metadata": {
    "collapsed": false
   },
   "outputs": [
    {
     "data": {
      "text/plain": [
       "81"
      ]
     },
     "execution_count": 4,
     "metadata": {},
     "output_type": "execute_result"
    }
   ],
   "source": [
    "def square(num):\n",
    "    \"\"\"Squares the number passed\n",
    "    \n",
    "    Args:\n",
    "        num: the number to be squared\n",
    "        \n",
    "    Returns:\n",
    "        Square of the number passed\n",
    "    \n",
    "    \"\"\"\n",
    "    return num * num\n",
    "\n",
    "square(9)"
   ]
  },
  {
   "cell_type": "code",
   "execution_count": 5,
   "metadata": {
    "collapsed": false
   },
   "outputs": [
    {
     "name": "stdout",
     "output_type": "stream",
     "text": [
      "Help on function square in module __main__:\n",
      "\n",
      "square(num)\n",
      "    Squares the number passed\n",
      "    \n",
      "    Args:\n",
      "        num: the number to be squared\n",
      "        \n",
      "    Returns:\n",
      "        Square of the number passed\n",
      "\n"
     ]
    }
   ],
   "source": [
    "help(square)"
   ]
  },
  {
   "cell_type": "code",
   "execution_count": 8,
   "metadata": {
    "collapsed": false
   },
   "outputs": [
    {
     "name": "stdout",
     "output_type": "stream",
     "text": [
      "Help on module modules.story in modules:\n",
      "\n",
      "NAME\n",
      "    modules.story - Fetches contents of a page from the internet\n",
      "\n",
      "DESCRIPTION\n",
      "    Usage:\n",
      "        import story\n",
      "        story.main(<url>)\n",
      "\n",
      "FUNCTIONS\n",
      "    fetch(url)\n",
      "    \n",
      "    main(url)\n",
      "    \n",
      "    print_items(items)\n",
      "\n",
      "FILE\n",
      "    /mnt/sda3/jupyter/modules/story.py\n",
      "\n",
      "\n"
     ]
    }
   ],
   "source": [
    "import modules.story\n",
    "help(modules.story)"
   ]
  }
 ],
 "metadata": {
  "kernelspec": {
   "display_name": "Python 3",
   "language": "python",
   "name": "python3"
  },
  "language_info": {
   "codemirror_mode": {
    "name": "ipython",
    "version": 3
   },
   "file_extension": ".py",
   "mimetype": "text/x-python",
   "name": "python",
   "nbconvert_exporter": "python",
   "pygments_lexer": "ipython3",
   "version": "3.4.5"
  }
 },
 "nbformat": 4,
 "nbformat_minor": 2
}
