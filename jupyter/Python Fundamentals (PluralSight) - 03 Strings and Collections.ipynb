{
 "cells": [
  {
   "cell_type": "markdown",
   "metadata": {},
   "source": [
    "## Strings\n",
    "\n",
    "str - immutable sequences of Unicode codepoints.\n",
    "\n",
    "Once you have constructed a string, you can modify it's contents"
   ]
  },
  {
   "cell_type": "code",
   "execution_count": 3,
   "metadata": {
    "collapsed": false
   },
   "outputs": [
    {
     "data": {
      "text/plain": [
       "'Anand \" Saha'"
      ]
     },
     "execution_count": 3,
     "metadata": {},
     "output_type": "execute_result"
    }
   ],
   "source": [
    "'Anand \" Saha'"
   ]
  },
  {
   "cell_type": "code",
   "execution_count": 4,
   "metadata": {
    "collapsed": false
   },
   "outputs": [
    {
     "data": {
      "text/plain": [
       "\"Anand ' Saha\""
      ]
     },
     "execution_count": 4,
     "metadata": {},
     "output_type": "execute_result"
    }
   ],
   "source": [
    "\"Anand ' Saha\""
   ]
  },
  {
   "cell_type": "code",
   "execution_count": 6,
   "metadata": {
    "collapsed": false
   },
   "outputs": [
    {
     "data": {
      "text/plain": [
       "'Anand Saha'"
      ]
     },
     "execution_count": 6,
     "metadata": {},
     "output_type": "execute_result"
    }
   ],
   "source": [
    "\"Anand\" \" Saha\""
   ]
  },
  {
   "cell_type": "markdown",
   "metadata": {},
   "source": [
    "For strings with new lines, you can either use multi line strings or escape sequences."
   ]
  },
  {
   "cell_type": "code",
   "execution_count": 8,
   "metadata": {
    "collapsed": false
   },
   "outputs": [],
   "source": [
    "a = \"\"\"There was a king\n",
    "who wanted to fly.\"\"\""
   ]
  },
  {
   "cell_type": "code",
   "execution_count": 10,
   "metadata": {
    "collapsed": false
   },
   "outputs": [
    {
     "data": {
      "text/plain": [
       "'There was a king\\nwho wanted to fly.'"
      ]
     },
     "execution_count": 10,
     "metadata": {},
     "output_type": "execute_result"
    }
   ],
   "source": [
    "a"
   ]
  },
  {
   "cell_type": "code",
   "execution_count": 9,
   "metadata": {
    "collapsed": false
   },
   "outputs": [
    {
     "name": "stdout",
     "output_type": "stream",
     "text": [
      "There was a king\n",
      "who wanted to fly.\n"
     ]
    }
   ],
   "source": [
    "print(a)"
   ]
  },
  {
   "cell_type": "code",
   "execution_count": 11,
   "metadata": {
    "collapsed": false
   },
   "outputs": [
    {
     "data": {
      "text/plain": [
       "'This\\nalso\\nworks'"
      ]
     },
     "execution_count": 11,
     "metadata": {},
     "output_type": "execute_result"
    }
   ],
   "source": [
    "'''This\n",
    "also\n",
    "works'''"
   ]
  },
  {
   "cell_type": "code",
   "execution_count": 12,
   "metadata": {
    "collapsed": false
   },
   "outputs": [
    {
     "name": "stdout",
     "output_type": "stream",
     "text": [
      "You\n",
      "can\n",
      "use\n",
      "escape sequence as well\n"
     ]
    }
   ],
   "source": [
    "m = \"You\\ncan\\nuse\\nescape sequence as well\"\n",
    "print(m)"
   ]
  },
  {
   "cell_type": "markdown",
   "metadata": {},
   "source": [
    "'\\n' is universal new line. On windows, it will be rendered as \\r\\n"
   ]
  },
  {
   "cell_type": "code",
   "execution_count": 14,
   "metadata": {
    "collapsed": false
   },
   "outputs": [
    {
     "name": "stdout",
     "output_type": "stream",
     "text": [
      "this\\is\\a\\raw\\string\n"
     ]
    }
   ],
   "source": [
    "path = r\"this\\is\\a\\raw\\string\"\n",
    "path\n"
   ]
  },
  {
   "cell_type": "code",
   "execution_count": 15,
   "metadata": {
    "collapsed": false
   },
   "outputs": [
    {
     "name": "stdout",
     "output_type": "stream",
     "text": [
      "this\\is\\a\\raw\\string\n"
     ]
    }
   ],
   "source": [
    "print(path)"
   ]
  },
  {
   "cell_type": "code",
   "execution_count": 16,
   "metadata": {
    "collapsed": false
   },
   "outputs": [
    {
     "data": {
      "text/plain": [
       "'887'"
      ]
     },
     "execution_count": 16,
     "metadata": {},
     "output_type": "execute_result"
    }
   ],
   "source": [
    "str(887)"
   ]
  },
  {
   "cell_type": "code",
   "execution_count": 17,
   "metadata": {
    "collapsed": false
   },
   "outputs": [
    {
     "data": {
      "text/plain": [
       "'5.99'"
      ]
     },
     "execution_count": 17,
     "metadata": {},
     "output_type": "execute_result"
    }
   ],
   "source": [
    "str(5.99)"
   ]
  },
  {
   "cell_type": "code",
   "execution_count": 18,
   "metadata": {
    "collapsed": false
   },
   "outputs": [
    {
     "data": {
      "text/plain": [
       "'0.0788'"
      ]
     },
     "execution_count": 18,
     "metadata": {},
     "output_type": "execute_result"
    }
   ],
   "source": [
    "str(7.88e-2)"
   ]
  },
  {
   "cell_type": "code",
   "execution_count": 19,
   "metadata": {
    "collapsed": false
   },
   "outputs": [
    {
     "data": {
      "text/plain": [
       "'A'"
      ]
     },
     "execution_count": 19,
     "metadata": {},
     "output_type": "execute_result"
    }
   ],
   "source": [
    "s = \"Anand\"\n",
    "s[0]"
   ]
  },
  {
   "cell_type": "code",
   "execution_count": 20,
   "metadata": {
    "collapsed": false
   },
   "outputs": [
    {
     "data": {
      "text/plain": [
       "str"
      ]
     },
     "execution_count": 20,
     "metadata": {},
     "output_type": "execute_result"
    }
   ],
   "source": [
    "type(s)"
   ]
  },
  {
   "cell_type": "code",
   "execution_count": 21,
   "metadata": {
    "collapsed": false
   },
   "outputs": [
    {
     "data": {
      "text/plain": [
       "str"
      ]
     },
     "execution_count": 21,
     "metadata": {},
     "output_type": "execute_result"
    }
   ],
   "source": [
    "type(s[0])"
   ]
  },
  {
   "cell_type": "code",
   "execution_count": 24,
   "metadata": {
    "collapsed": false
   },
   "outputs": [
    {
     "data": {
      "text/plain": [
       "'Anand saha'"
      ]
     },
     "execution_count": 24,
     "metadata": {},
     "output_type": "execute_result"
    }
   ],
   "source": [
    "t = \"anand saha\"\n",
    "t.capitalize()"
   ]
  },
  {
   "cell_type": "markdown",
   "metadata": {},
   "source": [
    "## Bytes\n",
    "Sequences of bytes - immutable"
   ]
  },
  {
   "cell_type": "code",
   "execution_count": null,
   "metadata": {
    "collapsed": true
   },
   "outputs": [],
   "source": []
  },
  {
   "cell_type": "code",
   "execution_count": 27,
   "metadata": {
    "collapsed": false
   },
   "outputs": [],
   "source": [
    "b = b\"anand saha\""
   ]
  },
  {
   "cell_type": "code",
   "execution_count": 28,
   "metadata": {
    "collapsed": false
   },
   "outputs": [
    {
     "data": {
      "text/plain": [
       "[b'anand', b'saha']"
      ]
     },
     "execution_count": 28,
     "metadata": {},
     "output_type": "execute_result"
    }
   ],
   "source": [
    "b.split()"
   ]
  },
  {
   "cell_type": "markdown",
   "metadata": {},
   "source": [
    "str to byte: encoding\n",
    "\n",
    "byte to str: decoding"
   ]
  },
  {
   "cell_type": "code",
   "execution_count": 29,
   "metadata": {
    "collapsed": true
   },
   "outputs": [],
   "source": [
    "h = \"मानक हिन्दी\""
   ]
  },
  {
   "cell_type": "code",
   "execution_count": 30,
   "metadata": {
    "collapsed": false
   },
   "outputs": [
    {
     "name": "stdout",
     "output_type": "stream",
     "text": [
      "मानक हिन्दी\n"
     ]
    }
   ],
   "source": [
    "print(h)"
   ]
  },
  {
   "cell_type": "code",
   "execution_count": 33,
   "metadata": {
    "collapsed": false
   },
   "outputs": [
    {
     "data": {
      "text/plain": [
       "b'\\xe0\\xa4\\xae\\xe0\\xa4\\xbe\\xe0\\xa4\\xa8\\xe0\\xa4\\x95 \\xe0\\xa4\\xb9\\xe0\\xa4\\xbf\\xe0\\xa4\\xa8\\xe0\\xa5\\x8d\\xe0\\xa4\\xa6\\xe0\\xa5\\x80'"
      ]
     },
     "execution_count": 33,
     "metadata": {},
     "output_type": "execute_result"
    }
   ],
   "source": [
    "e = h.encode(\"utf-8\")\n",
    "e"
   ]
  },
  {
   "cell_type": "code",
   "execution_count": 32,
   "metadata": {
    "collapsed": false
   },
   "outputs": [
    {
     "data": {
      "text/plain": [
       "'मानक हिन्दी'"
      ]
     },
     "execution_count": 32,
     "metadata": {},
     "output_type": "execute_result"
    }
   ],
   "source": [
    "e.decode(\"utf-8\")"
   ]
  },
  {
   "cell_type": "markdown",
   "metadata": {},
   "source": [
    "## Lists\n",
    "\n",
    "Mutable sequence of objects\n",
    "\n",
    "They can be heterogeneus wrt to types of objects"
   ]
  },
  {
   "cell_type": "code",
   "execution_count": 34,
   "metadata": {
    "collapsed": false
   },
   "outputs": [
    {
     "name": "stdout",
     "output_type": "stream",
     "text": [
      "[1, 2, 3]\n",
      "[1, 'apple', 3]\n"
     ]
    }
   ],
   "source": [
    "l = [1, 2, 3]\n",
    "print(l)\n",
    "l[1] = \"apple\"\n",
    "print(l)"
   ]
  },
  {
   "cell_type": "code",
   "execution_count": 35,
   "metadata": {
    "collapsed": false
   },
   "outputs": [
    {
     "data": {
      "text/plain": [
       "[1, 6.69, 'Mumbai', True, b'A']"
      ]
     },
     "execution_count": 35,
     "metadata": {},
     "output_type": "execute_result"
    }
   ],
   "source": [
    "b = []\n",
    "b.append(1)\n",
    "b.append(6.69)\n",
    "b.append(\"Mumbai\")\n",
    "b.append(True)\n",
    "b.append(b\"A\")\n",
    "b"
   ]
  },
  {
   "cell_type": "code",
   "execution_count": 36,
   "metadata": {
    "collapsed": false
   },
   "outputs": [
    {
     "data": {
      "text/plain": [
       "['c', 'h', 'a', 'r', 'a', 'c', 't', 'e', 'r', 's']"
      ]
     },
     "execution_count": 36,
     "metadata": {},
     "output_type": "execute_result"
    }
   ],
   "source": [
    "list(\"characters\")"
   ]
  },
  {
   "cell_type": "code",
   "execution_count": 37,
   "metadata": {
    "collapsed": false
   },
   "outputs": [
    {
     "data": {
      "text/plain": [
       "['red', 'green', 'blue', 'black']"
      ]
     },
     "execution_count": 37,
     "metadata": {},
     "output_type": "execute_result"
    }
   ],
   "source": [
    "c = [\"red\",\n",
    "     \"green\",\n",
    "     \"blue\",\n",
    "     \"black\"]\n",
    "c"
   ]
  },
  {
   "cell_type": "markdown",
   "metadata": {},
   "source": [
    "## Dict\n",
    "mutable sequence of key value pairs"
   ]
  },
  {
   "cell_type": "code",
   "execution_count": 40,
   "metadata": {
    "collapsed": false
   },
   "outputs": [
    {
     "data": {
      "text/plain": [
       "{'a': 'Anand', 'b': 'Saha', 'c': 'Pune'}"
      ]
     },
     "execution_count": 40,
     "metadata": {},
     "output_type": "execute_result"
    }
   ],
   "source": [
    "d = {'a': 'Anand', 'b': 'Saha', 'c': 'Pune'}\n",
    "d"
   ]
  },
  {
   "cell_type": "code",
   "execution_count": 42,
   "metadata": {
    "collapsed": false
   },
   "outputs": [
    {
     "data": {
      "text/plain": [
       "{1: 'Mango'}"
      ]
     },
     "execution_count": 42,
     "metadata": {},
     "output_type": "execute_result"
    }
   ],
   "source": [
    "e = {1: 'Mango'}\n",
    "e"
   ]
  },
  {
   "cell_type": "markdown",
   "metadata": {},
   "source": [
    "## For loop\n"
   ]
  },
  {
   "cell_type": "code",
   "execution_count": 44,
   "metadata": {
    "collapsed": false
   },
   "outputs": [
    {
     "name": "stdout",
     "output_type": "stream",
     "text": [
      "a\n",
      "Anand\n",
      "b\n",
      "Saha\n",
      "c\n",
      "Pune\n"
     ]
    }
   ],
   "source": [
    "for item in d:\n",
    "    print(item)\n",
    "    print(d[item])"
   ]
  },
  {
   "cell_type": "code",
   "execution_count": 53,
   "metadata": {
    "collapsed": false
   },
   "outputs": [
    {
     "name": "stdout",
     "output_type": "stream",
     "text": [
      "There was once upon a time an old goat who had seven little kids, and\n",
      "loved them with all the love of a mother for her children. One day\n",
      "she wanted to go into the forest and fetch some food. So she called\n",
      "all seven to her and said, dear children, I have to go into the\n",
      "forest, be on your guard against the wolf, if he comes in, he will\n",
      "devour you all - skin, hair, and everything.  The wretch often\n",
      "disguises himself, but you will know him at once by his rough voice\n",
      "and his black feet.  The kids said, dear mother, we will take good\n",
      "care of ourselves, you may go away without any anxiety.  Then the old\n",
      "one bleated, and went on her way with an easy mind.\n",
      "\n",
      "It was not long before some one knocked at the house-door and called,\n",
      "open the door, dear children, your mother is here, and has brought\n",
      "something back with her for each of you.  But the little kids knew\n",
      "that it was the wolf, by the rough voice.  We will not open the door,\n",
      "cried they, you are not our mother.  She has a soft, pleasant voice,\n",
      "but your voice is rough, you are the wolf.  Then the wolf went away\n",
      "to a shopkeeper and bought himself a great lump of chalk, ate this\n",
      "and made his voice soft with it. The he came back, knocked at the\n",
      "door of the house, and called, open the door, dear children, your\n",
      "mother is here and has brought something back with her for each of\n",
      "you.  But the wolf had laid his black paws against the window, and\n",
      "the children saw them and cried, we will not open the door, our\n",
      "mother has not black feet like you, you are the wolf.  Then the wolf\n",
      "ran to a baker and said, I have hurt my feet, rub some dough over\n",
      "them for me.  And when the baker had rubbed his feet over, he ran to\n",
      "the miller and said, strew some white meal over my feet for me.  The\n",
      "miller thought to himself, the wolf wants to deceive someone, and\n",
      "refused, but the wolf said, if you will not do it, I will devour you.\n",
      "Then the miller was afraid, and made his paws white for him. Truly,\n",
      "this the way of mankind.\n",
      "\n",
      "So now the wretch went for the third time to the house-door, knocked\n",
      "at it and said, open the door for me, children, your dear little\n",
      "mother has come home, and has brought every one of you something back\n",
      "from the forest with her.  The little kids cried, first show us your\n",
      "paws that we may know if you are our dear little mother.  Then he put\n",
      "his paws in through the window, and when the kids saw that they were\n",
      "white, they believed that all he said was true, and opened the door.\n",
      "But who should come in but the wolf they were terrified and wanted to\n",
      "hide themselves.  One sprang under the table, the second into the\n",
      "bed, the third into the stove, the fourth into the kitchen, the fifth\n",
      "into the cupboard, the sixth under the washing-bowl, and the seventh\n",
      "into the clock-case.  But the wolf found them all, and used no great\n",
      "ceremony, one after the other he swallowed them down his throat.  The\n",
      "youngest, who was in the clock-case, was the only one he did not\n",
      "find. When the wolf had satisfied his appetite he took himself off,\n",
      "laid himself down under a tree in the green meadow outside, and began\n",
      "to sleep.  Soon afterwards the old goat came home again from the\n",
      "forest.  Ah.  What a sight she saw there.  The house-door stood wide\n",
      "open.  The table, chairs, and benches were thrown down, the\n",
      "washing-bowl lay broken to pieces, and the quilts and pillows were\n",
      "pulled off the bed.  She sought her children, but they were nowhere\n",
      "to be found.  She called them one after another by name, but no one\n",
      "answered.  At last, when she caame to the youngest, a soft voice\n",
      "cried, dear mother, I am in the clock-case.  She took the kid out,\n",
      "and it told her that the wolf had come and had eaten all the others.\n",
      "Then you may imagine how she wept over her poor children.\n",
      "\n",
      "At length in her grief she went out, and the youngest kid ran with\n",
      "her.  When they came to the meadow, there lay the wolf by the tree\n",
      "and snored so loud that the branches shook.  She looked at him on\n",
      "every side and saw that something was moving and struggling in his\n",
      "gorged belly.  Ah, heavens, she said, is it possible that my poor\n",
      "children whom he has swallowed down for his supper, can be still\n",
      "alive.  Then the kid had to run home and fetch scissors, and a needle\n",
      "and thread and the goat cut open the monster's stomach, and hardly\n",
      "had she make one cut, than one little kid thrust its head out, and\n",
      "when she cut farther, all six sprang out one after another, and were\n",
      "all still alive, and had suffered no injury whatever, for in his\n",
      "greediness the monster had swallowed them down whole.  What rejoicing\n",
      "there was.  They embraced their dear mother, and jumped like a sailor\n",
      "at his wedding.  The mother, however, said, now go and look for some\n",
      "big stones, and we will fill the wicked beast's stomach with them\n",
      "while he is still asleep.  Then the seven kids dragged the stones\n",
      "thither with all speed, and put as many of them into his stomach as\n",
      "they could get in, and the mother sewed him up again in the greatest\n",
      "haste, so that he was not aware of anything and never once stirred.\n",
      "\n",
      "When the wolf at length had had his fill of sleep, he got on his\n",
      "legs, and as the stones in his stomach made him very thirsty, he\n",
      "wanted to go to a well to drink.  But when he began to walk and move\n",
      "about, the stones in his stomach knocked against each other and\n",
      "rattled.  Then cried he,  what rumbles and tumbles against my poor\n",
      "bones.  I thought 'twas six kids,  but it feels like big stones. And\n",
      "when he got to the well and stooped over the water to drink, the\n",
      "heavy stones made him fall in, and he had to drown miserably.  When\n",
      "the seven kids saw that, they came running to the spot and cried\n",
      "aloud, the wolf is dead.  The wolf is dead, and danced for joy round\n",
      "about the well with their mother.\n"
     ]
    }
   ],
   "source": [
    "from urllib.request import urlopen\n",
    "with urlopen('https://www.cs.cmu.edu/~spok/grimmtmp/004.txt') as page:\n",
    "    for line in page:\n",
    "        l = line\n",
    "        print(l.decode('utf-8'), end='')"
   ]
  }
 ],
 "metadata": {
  "kernelspec": {
   "display_name": "Python 3",
   "language": "python",
   "name": "python3"
  },
  "language_info": {
   "codemirror_mode": {
    "name": "ipython",
    "version": 3
   },
   "file_extension": ".py",
   "mimetype": "text/x-python",
   "name": "python",
   "nbconvert_exporter": "python",
   "pygments_lexer": "ipython3",
   "version": "3.4.5"
  }
 },
 "nbformat": 4,
 "nbformat_minor": 2
}
